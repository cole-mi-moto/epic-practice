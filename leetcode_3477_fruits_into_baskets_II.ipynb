{
 "cells": [
  {
   "cell_type": "code",
   "execution_count": 25,
   "id": "e3625f88",
   "metadata": {},
   "outputs": [],
   "source": [
    "def unallocatedFruits(n, fruits, baskets):\n",
    "    unplaced = []\n",
    "    for j in range(len(fruits)):\n",
    "        run = 3\n",
    "        bsktid = 0\n",
    "        while n > 0:\n",
    "            if baskets[bsktid] >= fruits[j]:\n",
    "                baskets[bsktid] = -1\n",
    "                n = 0\n",
    "                run -= 1\n",
    "            else:\n",
    "                bsktid += 1\n",
    "                n -= 1\n",
    "        if run == 3:\n",
    "            unplaced.append(fruits[j])\n",
    "        n = 3\n",
    "\n",
    "    return len(unplaced)"
   ]
  },
  {
   "cell_type": "code",
   "execution_count": 26,
   "id": "14257156",
   "metadata": {},
   "outputs": [
    {
     "name": "stdout",
     "output_type": "stream",
     "text": [
      "1 fruit type(s) remain unallocated\n"
     ]
    }
   ],
   "source": [
    "n = 3\n",
    "fruits = [4,2,5]\n",
    "baskets = [3,5,4]\n",
    "print(f\"{unallocatedFruits(n, fruits, baskets)} fruit type(s) remain unallocated\")"
   ]
  },
  {
   "cell_type": "code",
   "execution_count": 27,
   "id": "daa3b2f5",
   "metadata": {},
   "outputs": [
    {
     "name": "stdout",
     "output_type": "stream",
     "text": [
      "0 fruit type(s) remain unallocated\n"
     ]
    }
   ],
   "source": [
    "n = 3\n",
    "fruits = [3,6,1]\n",
    "baskets = [6,4,7]\n",
    "print(f\"{unallocatedFruits(n, fruits, baskets)} fruit type(s) remain unallocated\")"
   ]
  }
 ],
 "metadata": {
  "kernelspec": {
   "display_name": "Python 3",
   "language": "python",
   "name": "python3"
  },
  "language_info": {
   "codemirror_mode": {
    "name": "ipython",
    "version": 3
   },
   "file_extension": ".py",
   "mimetype": "text/x-python",
   "name": "python",
   "nbconvert_exporter": "python",
   "pygments_lexer": "ipython3",
   "version": "3.13.1"
  }
 },
 "nbformat": 4,
 "nbformat_minor": 5
}
