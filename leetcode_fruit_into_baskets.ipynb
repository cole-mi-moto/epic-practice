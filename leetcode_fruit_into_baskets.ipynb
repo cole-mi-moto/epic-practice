{
 "cells": [
  {
   "cell_type": "code",
   "execution_count": 48,
   "id": "debfe302",
   "metadata": {},
   "outputs": [],
   "source": [
    "def fruitBaskets(arr):\n",
    "    distinct = []\n",
    "    for i in arr:\n",
    "        if i not in distinct:\n",
    "            distinct.append(i)\n",
    "    longest = 0\n",
    "    finalCollection = []\n",
    "    for j in distinct:\n",
    "        for k in distinct:\n",
    "            collectedDoubles = []\n",
    "            for l in arr:\n",
    "                if l == j or l == k:\n",
    "                    collectedDoubles.append(l)\n",
    "            if len(collectedDoubles) >= longest:\n",
    "                longest = len(collectedDoubles)\n",
    "                finalCollection = collectedDoubles\n",
    "    return len(finalCollection)"
   ]
  },
  {
   "cell_type": "code",
   "execution_count": 49,
   "id": "9b9dbb26",
   "metadata": {},
   "outputs": [
    {
     "name": "stdout",
     "output_type": "stream",
     "text": [
      "Fruits collected from 3 trees!\n"
     ]
    }
   ],
   "source": [
    "farm = [1,2,1]\n",
    "print(f\"Fruits collected from {fruitBaskets(farm)} trees!\")"
   ]
  },
  {
   "cell_type": "code",
   "execution_count": 50,
   "id": "6c9a1546",
   "metadata": {},
   "outputs": [
    {
     "name": "stdout",
     "output_type": "stream",
     "text": [
      "Fruits collected from 3 trees!\n"
     ]
    }
   ],
   "source": [
    "farm = [0,1,2,2]\n",
    "print(f\"Fruits collected from {fruitBaskets(farm)} trees!\")"
   ]
  },
  {
   "cell_type": "code",
   "execution_count": 51,
   "id": "d4abbb7a",
   "metadata": {},
   "outputs": [
    {
     "name": "stdout",
     "output_type": "stream",
     "text": [
      "Fruits collected from 4 trees!\n"
     ]
    }
   ],
   "source": [
    "farm = [1,2,3,2,2]\n",
    "print(f\"Fruits collected from {fruitBaskets(farm)} trees!\")"
   ]
  }
 ],
 "metadata": {
  "kernelspec": {
   "display_name": "Python 3",
   "language": "python",
   "name": "python3"
  },
  "language_info": {
   "codemirror_mode": {
    "name": "ipython",
    "version": 3
   },
   "file_extension": ".py",
   "mimetype": "text/x-python",
   "name": "python",
   "nbconvert_exporter": "python",
   "pygments_lexer": "ipython3",
   "version": "3.13.1"
  }
 },
 "nbformat": 4,
 "nbformat_minor": 5
}
