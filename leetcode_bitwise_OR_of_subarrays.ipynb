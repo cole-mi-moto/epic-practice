{
 "cells": [
  {
   "cell_type": "code",
   "execution_count": 6,
   "id": "dda7e7e1",
   "metadata": {},
   "outputs": [],
   "source": [
    "def bitwiseOrsOfSubarrays(arr):\n",
    "    distinct_ors = set()\n",
    "    prev_ors = set()\n",
    "\n",
    "    for num in arr:\n",
    "        curr_ors = set()\n",
    "        curr_ors.add(num)\n",
    "        for prev_or in prev_ors:\n",
    "            curr_ors.add(prev_or|num)\n",
    "        prev_ors = curr_ors\n",
    "        distinct_ors.update(curr_ors)\n",
    "    \n",
    "    return len(distinct_ors)"
   ]
  },
  {
   "cell_type": "code",
   "execution_count": 7,
   "id": "503945e4",
   "metadata": {},
   "outputs": [
    {
     "name": "stdout",
     "output_type": "stream",
     "text": [
      "The number of bitwise OR of subarrays in [0] is 1\n"
     ]
    }
   ],
   "source": [
    "nums = [0]\n",
    "print(f\"The number of bitwise OR of subarrays in {nums} is {bitwiseOrsOfSubarrays(nums)}\")"
   ]
  },
  {
   "cell_type": "code",
   "execution_count": 8,
   "id": "62d625c4",
   "metadata": {},
   "outputs": [
    {
     "name": "stdout",
     "output_type": "stream",
     "text": [
      "The number of bitwise OR of subarrays in [1, 1, 2] is 3\n"
     ]
    }
   ],
   "source": [
    "nums = [1,1,2]\n",
    "print(f\"The number of bitwise OR of subarrays in {nums} is {bitwiseOrsOfSubarrays(nums)}\")"
   ]
  },
  {
   "cell_type": "code",
   "execution_count": 9,
   "id": "a5490f57",
   "metadata": {},
   "outputs": [
    {
     "name": "stdout",
     "output_type": "stream",
     "text": [
      "The number of bitwise OR of subarrays in [1, 2, 4] is 6\n"
     ]
    }
   ],
   "source": [
    "nums = [1,2,4]\n",
    "print(f\"The number of bitwise OR of subarrays in {nums} is {bitwiseOrsOfSubarrays(nums)}\")"
   ]
  }
 ],
 "metadata": {
  "kernelspec": {
   "display_name": "Python 3",
   "language": "python",
   "name": "python3"
  },
  "language_info": {
   "codemirror_mode": {
    "name": "ipython",
    "version": 3
   },
   "file_extension": ".py",
   "mimetype": "text/x-python",
   "name": "python",
   "nbconvert_exporter": "python",
   "pygments_lexer": "ipython3",
   "version": "3.13.1"
  }
 },
 "nbformat": 4,
 "nbformat_minor": 5
}
