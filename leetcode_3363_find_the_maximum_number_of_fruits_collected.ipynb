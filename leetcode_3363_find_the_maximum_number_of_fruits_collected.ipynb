{
 "cells": [
  {
   "cell_type": "code",
   "execution_count": 17,
   "id": "cf3b1b36",
   "metadata": {},
   "outputs": [],
   "source": [
    "def maxCollected(fruits):\n",
    "    n = len(fruits)\n",
    "\n",
    "    diag_sum = sum(fruits[i][i] for i in range(n))\n",
    "\n",
    "    dp2 = [[-10**18]*n for _ in range(n)]\n",
    "    dp2[0][n-1] = fruits[0][n-1]\n",
    "    directions2 = [(1,-1), (1,0), (1,1)]\n",
    "    for i in range(1,n):\n",
    "        for j in range(n):\n",
    "            for dx, dy in directions2:\n",
    "                prev_i = i - dx\n",
    "                prev_j = j - dy\n",
    "                if 0 <= prev_i < n and 0 <= prev_j < n:\n",
    "                    dp2[i][j] = max(dp2[i][j], dp2[prev_i][prev_j]+fruits[i][j])\n",
    "\n",
    "    dp3 = [[-10**18]*n for _ in range(n)]\n",
    "    dp3[n-1][0] = fruits[n-1][0]\n",
    "    directions3 = [(-1,1), (0,1), (1,1)]\n",
    "    for j in range(1,n):\n",
    "        for i in range(n):\n",
    "            for dx, dy in directions3:\n",
    "                prev_i = i - dx\n",
    "                prev_j = j - dy\n",
    "                if 0 <= prev_i < n and 0 <= prev_j < n:\n",
    "                    dp3[i][j] = max(dp3[i][j], dp3[prev_i][prev_j]+fruits[i][j])\n",
    "\n",
    "    total = diag_sum + dp2[n-1][n-1] + dp3[n-1][n-1] - (fruits[n-1][n-1]) - (fruits[n-1][n-1])\n",
    "    return total"
   ]
  },
  {
   "cell_type": "code",
   "execution_count": 18,
   "id": "96a3ce89",
   "metadata": {},
   "outputs": [
    {
     "name": "stdout",
     "output_type": "stream",
     "text": [
      "100\n"
     ]
    }
   ],
   "source": [
    "fruits = [[1,2,3,4], [5,6,7,8], [9,10,11,12], [13,14,15,16]]\n",
    "print(f\"{maxCollected(fruits)}\")"
   ]
  },
  {
   "cell_type": "code",
   "execution_count": 19,
   "id": "56db381a",
   "metadata": {},
   "outputs": [
    {
     "name": "stdout",
     "output_type": "stream",
     "text": [
      "4\n"
     ]
    }
   ],
   "source": [
    "fruits = [[1,1], [1,1]]\n",
    "print(f\"{maxCollected(fruits)}\")"
   ]
  }
 ],
 "metadata": {
  "kernelspec": {
   "display_name": "Python 3",
   "language": "python",
   "name": "python3"
  },
  "language_info": {
   "codemirror_mode": {
    "name": "ipython",
    "version": 3
   },
   "file_extension": ".py",
   "mimetype": "text/x-python",
   "name": "python",
   "nbconvert_exporter": "python",
   "pygments_lexer": "ipython3",
   "version": "3.13.1"
  }
 },
 "nbformat": 4,
 "nbformat_minor": 5
}
