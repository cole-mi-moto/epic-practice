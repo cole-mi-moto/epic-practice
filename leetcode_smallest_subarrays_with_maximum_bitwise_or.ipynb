{
 "cells": [
  {
   "cell_type": "code",
   "execution_count": 3,
   "id": "8a4afc56",
   "metadata": {},
   "outputs": [],
   "source": [
    "def smallestSubArrays(arr):\n",
    "    n = len(arr)\n",
    "\n",
    "    max_or_for_suffix = [0]*n\n",
    "    max_or_for_suffix[n-1] =  arr[n-1]\n",
    "\n",
    "    for k in range(n-2, -1, -1):\n",
    "        max_or_for_suffix[k] = arr[k]|max_or_for_suffix[k+1]\n",
    "\n",
    "    answer = [0]*n\n",
    "    last_occurence = [-1]*31\n",
    "\n",
    "    for i in range(n-1, -1, -1):\n",
    "        current_num = arr[i]\n",
    "        target_or = max_or_for_suffix[i]\n",
    "        for bit_pos in range(31):\n",
    "            if(current_num >> bit_pos) &1:\n",
    "                last_occurence[bit_pos] = i\n",
    "        rightmost_needed_index = i\n",
    "        for bit_pos in range(31):\n",
    "            if(target_or>>bit_pos)&1:\n",
    "                rightmost_needed_index = max(rightmost_needed_index, last_occurence[bit_pos])\n",
    "        answer[i] = rightmost_needed_index - i + 1\n",
    "    return answer"
   ]
  },
  {
   "cell_type": "code",
   "execution_count": 4,
   "id": "efc74e3a",
   "metadata": {},
   "outputs": [
    {
     "name": "stdout",
     "output_type": "stream",
     "text": [
      "The smallest subarrays of [1, 0, 2, 1, 3] with max bitwise OR is [3, 3, 2, 2, 1]\n"
     ]
    }
   ],
   "source": [
    "nums = [1,0,2,1,3]\n",
    "print(f\"The smallest subarrays of {nums} with max bitwise OR is {smallestSubArrays(nums)}\")"
   ]
  },
  {
   "cell_type": "code",
   "execution_count": 5,
   "id": "b8bfa5dd",
   "metadata": {},
   "outputs": [
    {
     "name": "stdout",
     "output_type": "stream",
     "text": [
      "The smallest subarrays of [1, 2] with max bitwise OR is [2, 1]\n"
     ]
    }
   ],
   "source": [
    "nums = [1,2]\n",
    "print(f\"The smallest subarrays of {nums} with max bitwise OR is {smallestSubArrays(nums)}\")"
   ]
  },
  {
   "cell_type": "code",
   "execution_count": 6,
   "id": "0fc09c04",
   "metadata": {},
   "outputs": [
    {
     "name": "stdout",
     "output_type": "stream",
     "text": [
      "The smallest subarrays of [8, 5, 10] with max bitwise OR is [3, 2, 1]\n"
     ]
    }
   ],
   "source": [
    "nums = [8,5,10]\n",
    "print(f\"The smallest subarrays of {nums} with max bitwise OR is {smallestSubArrays(nums)}\")"
   ]
  }
 ],
 "metadata": {
  "kernelspec": {
   "display_name": "Python 3",
   "language": "python",
   "name": "python3"
  },
  "language_info": {
   "codemirror_mode": {
    "name": "ipython",
    "version": 3
   },
   "file_extension": ".py",
   "mimetype": "text/x-python",
   "name": "python",
   "nbconvert_exporter": "python",
   "pygments_lexer": "ipython3",
   "version": "3.13.1"
  }
 },
 "nbformat": 4,
 "nbformat_minor": 5
}
