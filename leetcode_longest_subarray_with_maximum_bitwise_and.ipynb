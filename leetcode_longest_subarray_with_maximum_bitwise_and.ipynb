{
 "cells": [
  {
   "cell_type": "code",
   "execution_count": 6,
   "id": "7e89dd5f",
   "metadata": {},
   "outputs": [],
   "source": [
    "def longestSubarray(arr):\n",
    "    max_val = max(arr)\n",
    "\n",
    "    max_length = 0\n",
    "    current_length = 0\n",
    "\n",
    "    for num in arr:\n",
    "        if num == max_val:\n",
    "            current_length += 1\n",
    "        else:\n",
    "            current_length = 0\n",
    "        max_length = max(max_length, current_length)\n",
    "    \n",
    "    return max_length"
   ]
  },
  {
   "cell_type": "code",
   "execution_count": 7,
   "id": "5a1e59f2",
   "metadata": {},
   "outputs": [
    {
     "name": "stdout",
     "output_type": "stream",
     "text": [
      "The longest subarray of [1, 2, 3, 3, 2, 2] with maximum bitwise and is 2 members long!\n"
     ]
    }
   ],
   "source": [
    "nums = [1,2,3,3,2,2]\n",
    "print(f\"The longest subarray of {nums} with maximum bitwise and is {longestSubarray(nums)} members long!\")"
   ]
  },
  {
   "cell_type": "code",
   "execution_count": 8,
   "id": "de81e3f2",
   "metadata": {},
   "outputs": [
    {
     "name": "stdout",
     "output_type": "stream",
     "text": [
      "The longest subarray of [1, 2, 3, 4] with maximum bitwise and is 1 members long!\n"
     ]
    }
   ],
   "source": [
    "nums = [1,2,3,4]\n",
    "print(f\"The longest subarray of {nums} with maximum bitwise and is {longestSubarray(nums)} members long!\")"
   ]
  },
  {
   "cell_type": "code",
   "execution_count": 9,
   "id": "23210451",
   "metadata": {},
   "outputs": [
    {
     "name": "stdout",
     "output_type": "stream",
     "text": [
      "The longest subarray of [90, 90, 90] with maximum bitwise and is 3 members long!\n"
     ]
    }
   ],
   "source": [
    "nums = [90,90,90]\n",
    "print(f\"The longest subarray of {nums} with maximum bitwise and is {longestSubarray(nums)} members long!\")"
   ]
  }
 ],
 "metadata": {
  "kernelspec": {
   "display_name": "Python 3",
   "language": "python",
   "name": "python3"
  },
  "language_info": {
   "codemirror_mode": {
    "name": "ipython",
    "version": 3
   },
   "file_extension": ".py",
   "mimetype": "text/x-python",
   "name": "python",
   "nbconvert_exporter": "python",
   "pygments_lexer": "ipython3",
   "version": "3.13.1"
  }
 },
 "nbformat": 4,
 "nbformat_minor": 5
}
