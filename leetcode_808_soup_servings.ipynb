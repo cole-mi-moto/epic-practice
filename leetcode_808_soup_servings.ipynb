{
 "cells": [
  {
   "cell_type": "code",
   "execution_count": 3,
   "id": "55f3631e",
   "metadata": {},
   "outputs": [],
   "source": [
    "def soupServings(n):\n",
    "    if n >= 4800:\n",
    "        return 1.0\n",
    "\n",
    "    m = (n + 24) // 25\n",
    "\n",
    "    memo = {}\n",
    "\n",
    "    def dp(a, b):\n",
    "        if (a, b) in memo:\n",
    "            return memo[(a, b)]\n",
    "        \n",
    "        if a <= 0 and b <= 0:\n",
    "            return 0.5 \n",
    "        if a <= 0:\n",
    "            return 1.0\n",
    "        if b <= 0:\n",
    "            return 0.0\n",
    "\n",
    "        result = 0.25 * (\n",
    "            dp(a - 4, b) +\n",
    "            dp(a - 3, b - 1) +\n",
    "            dp(a - 2, b - 2) +\n",
    "            dp(a - 1, b - 3) \n",
    "        )\n",
    "\n",
    "        memo[(a, b)] = result\n",
    "        return result\n",
    "\n",
    "    return dp(m, m)"
   ]
  },
  {
   "cell_type": "code",
   "execution_count": 4,
   "id": "57f2351d",
   "metadata": {},
   "outputs": [
    {
     "name": "stdout",
     "output_type": "stream",
     "text": [
      "Probability that A is used up before B is 0.625\n"
     ]
    }
   ],
   "source": [
    "n = 50\n",
    "print(f\"Probability that A is used up before B is {soupServings(n)}\")"
   ]
  },
  {
   "cell_type": "code",
   "execution_count": 5,
   "id": "88c809cc",
   "metadata": {},
   "outputs": [
    {
     "name": "stdout",
     "output_type": "stream",
     "text": [
      "Probability that A is used up before B is 0.71875\n"
     ]
    }
   ],
   "source": [
    "n = 100\n",
    "print(f\"Probability that A is used up before B is {soupServings(n)}\")"
   ]
  }
 ],
 "metadata": {
  "kernelspec": {
   "display_name": "Python 3",
   "language": "python",
   "name": "python3"
  },
  "language_info": {
   "codemirror_mode": {
    "name": "ipython",
    "version": 3
   },
   "file_extension": ".py",
   "mimetype": "text/x-python",
   "name": "python",
   "nbconvert_exporter": "python",
   "pygments_lexer": "ipython3",
   "version": "3.13.1"
  }
 },
 "nbformat": 4,
 "nbformat_minor": 5
}
