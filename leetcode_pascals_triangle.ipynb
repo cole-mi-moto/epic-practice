{
 "cells": [
  {
   "cell_type": "code",
   "execution_count": 86,
   "id": "ff719976",
   "metadata": {},
   "outputs": [],
   "source": [
    "def pascalsTriangle(numRows):\n",
    "    curr_row = 1\n",
    "    triangle = []\n",
    "    while curr_row <= numRows:\n",
    "        if curr_row == 1:\n",
    "            triangle.append([1])\n",
    "        elif curr_row == 2:\n",
    "            triangle.append([1,1])\n",
    "        else:\n",
    "            new_row = []\n",
    "            lengthAbv = len(triangle[curr_row-2])\n",
    "            for num in range(lengthAbv):\n",
    "                if num == 0:\n",
    "                    new_row.append(1)\n",
    "                else:\n",
    "                    new_row.append(triangle[curr_row-2][num] + triangle[curr_row-2][num-1])\n",
    "            new_row.append(1)\n",
    "            triangle.append(new_row)\n",
    "\n",
    "        curr_row += 1\n",
    "    return triangle"
   ]
  },
  {
   "cell_type": "code",
   "execution_count": 87,
   "id": "43f975bf",
   "metadata": {},
   "outputs": [
    {
     "name": "stdout",
     "output_type": "stream",
     "text": [
      "Pascal's Triangle with 1 rows is [[1]]\n"
     ]
    }
   ],
   "source": [
    "numberOfRows = 1\n",
    "print(f\"Pascal's Triangle with {numberOfRows} rows is {pascalsTriangle(numberOfRows)}\")"
   ]
  },
  {
   "cell_type": "code",
   "execution_count": 88,
   "id": "00fe670d",
   "metadata": {},
   "outputs": [
    {
     "name": "stdout",
     "output_type": "stream",
     "text": [
      "Pascal's Triangle with 2 rows is [[1], [1, 1]]\n"
     ]
    }
   ],
   "source": [
    "numberOfRows = 2\n",
    "print(f\"Pascal's Triangle with {numberOfRows} rows is {pascalsTriangle(numberOfRows)}\")"
   ]
  },
  {
   "cell_type": "code",
   "execution_count": 89,
   "id": "330301c6",
   "metadata": {},
   "outputs": [
    {
     "name": "stdout",
     "output_type": "stream",
     "text": [
      "Pascal's Triangle with 3 rows is [[1], [1, 1], [1, 2, 1]]\n"
     ]
    }
   ],
   "source": [
    "numberOfRows = 3\n",
    "print(f\"Pascal's Triangle with {numberOfRows} rows is {pascalsTriangle(numberOfRows)}\")"
   ]
  },
  {
   "cell_type": "code",
   "execution_count": 90,
   "id": "0fb4ca3c",
   "metadata": {},
   "outputs": [
    {
     "name": "stdout",
     "output_type": "stream",
     "text": [
      "Pascal's Triangle with 4 rows is [[1], [1, 1], [1, 2, 1], [1, 3, 3, 1]]\n"
     ]
    }
   ],
   "source": [
    "numberOfRows = 4\n",
    "print(f\"Pascal's Triangle with {numberOfRows} rows is {pascalsTriangle(numberOfRows)}\")"
   ]
  },
  {
   "cell_type": "code",
   "execution_count": 91,
   "id": "81ed0a61",
   "metadata": {},
   "outputs": [
    {
     "name": "stdout",
     "output_type": "stream",
     "text": [
      "Pascal's Triangle with 5 rows is [[1], [1, 1], [1, 2, 1], [1, 3, 3, 1], [1, 4, 6, 4, 1]]\n"
     ]
    }
   ],
   "source": [
    "numberOfRows = 5\n",
    "print(f\"Pascal's Triangle with {numberOfRows} rows is {pascalsTriangle(numberOfRows)}\")"
   ]
  },
  {
   "cell_type": "code",
   "execution_count": 92,
   "id": "9305452e",
   "metadata": {},
   "outputs": [
    {
     "name": "stdout",
     "output_type": "stream",
     "text": [
      "Pascal's Triangle with 6 rows is [[1], [1, 1], [1, 2, 1], [1, 3, 3, 1], [1, 4, 6, 4, 1], [1, 5, 10, 10, 5, 1]]\n"
     ]
    }
   ],
   "source": [
    "numberOfRows = 6\n",
    "print(f\"Pascal's Triangle with {numberOfRows} rows is {pascalsTriangle(numberOfRows)}\")"
   ]
  },
  {
   "cell_type": "code",
   "execution_count": 93,
   "id": "a6c1a4e2",
   "metadata": {},
   "outputs": [
    {
     "name": "stdout",
     "output_type": "stream",
     "text": [
      "Pascal's Triangle with 7 rows is [[1], [1, 1], [1, 2, 1], [1, 3, 3, 1], [1, 4, 6, 4, 1], [1, 5, 10, 10, 5, 1], [1, 6, 15, 20, 15, 6, 1]]\n"
     ]
    }
   ],
   "source": [
    "numberOfRows = 7\n",
    "print(f\"Pascal's Triangle with {numberOfRows} rows is {pascalsTriangle(numberOfRows)}\")"
   ]
  },
  {
   "cell_type": "code",
   "execution_count": 94,
   "id": "65dcca57",
   "metadata": {},
   "outputs": [
    {
     "name": "stdout",
     "output_type": "stream",
     "text": [
      "Pascal's Triangle with 8 rows is [[1], [1, 1], [1, 2, 1], [1, 3, 3, 1], [1, 4, 6, 4, 1], [1, 5, 10, 10, 5, 1], [1, 6, 15, 20, 15, 6, 1], [1, 7, 21, 35, 35, 21, 7, 1]]\n"
     ]
    }
   ],
   "source": [
    "numberOfRows = 8\n",
    "print(f\"Pascal's Triangle with {numberOfRows} rows is {pascalsTriangle(numberOfRows)}\")"
   ]
  },
  {
   "cell_type": "code",
   "execution_count": 95,
   "id": "07758f2a",
   "metadata": {},
   "outputs": [
    {
     "name": "stdout",
     "output_type": "stream",
     "text": [
      "Pascal's Triangle with 9 rows is [[1], [1, 1], [1, 2, 1], [1, 3, 3, 1], [1, 4, 6, 4, 1], [1, 5, 10, 10, 5, 1], [1, 6, 15, 20, 15, 6, 1], [1, 7, 21, 35, 35, 21, 7, 1], [1, 8, 28, 56, 70, 56, 28, 8, 1]]\n"
     ]
    }
   ],
   "source": [
    "numberOfRows = 9\n",
    "print(f\"Pascal's Triangle with {numberOfRows} rows is {pascalsTriangle(numberOfRows)}\")"
   ]
  },
  {
   "cell_type": "code",
   "execution_count": 96,
   "id": "584d8f29",
   "metadata": {},
   "outputs": [
    {
     "name": "stdout",
     "output_type": "stream",
     "text": [
      "Pascal's Triangle with 10 rows is [[1], [1, 1], [1, 2, 1], [1, 3, 3, 1], [1, 4, 6, 4, 1], [1, 5, 10, 10, 5, 1], [1, 6, 15, 20, 15, 6, 1], [1, 7, 21, 35, 35, 21, 7, 1], [1, 8, 28, 56, 70, 56, 28, 8, 1], [1, 9, 36, 84, 126, 126, 84, 36, 9, 1]]\n"
     ]
    }
   ],
   "source": [
    "numberOfRows = 10\n",
    "print(f\"Pascal's Triangle with {numberOfRows} rows is {pascalsTriangle(numberOfRows)}\")"
   ]
  }
 ],
 "metadata": {
  "kernelspec": {
   "display_name": "Python 3",
   "language": "python",
   "name": "python3"
  },
  "language_info": {
   "codemirror_mode": {
    "name": "ipython",
    "version": 3
   },
   "file_extension": ".py",
   "mimetype": "text/x-python",
   "name": "python",
   "nbconvert_exporter": "python",
   "pygments_lexer": "ipython3",
   "version": "3.13.1"
  }
 },
 "nbformat": 4,
 "nbformat_minor": 5
}
