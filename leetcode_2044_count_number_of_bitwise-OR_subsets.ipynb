{
 "cells": [
  {
   "cell_type": "code",
   "execution_count": 27,
   "id": "0eb28f82",
   "metadata": {},
   "outputs": [],
   "source": [
    "def countmaxorsubsets(arr):\n",
    "    n = len(arr)\n",
    "    \n",
    "    max_overall_or = 0\n",
    "    for num in arr:\n",
    "        max_overall_or |= num\n",
    "\n",
    "    result_count = 0\n",
    "\n",
    "    def backtrack(index, current_or_sum, is_empty_so_far):\n",
    "        nonlocal result_count\n",
    "        if index == n:\n",
    "            if not is_empty_so_far and current_or_sum == max_overall_or:\n",
    "                result_count += 1\n",
    "            return\n",
    "        backtrack(index+1, current_or_sum|arr[index], False)\n",
    "        backtrack(index+1, current_or_sum, is_empty_so_far)\n",
    "\n",
    "    backtrack(0, 0, True)\n",
    "    return result_count\n",
    "    \n"
   ]
  },
  {
   "cell_type": "code",
   "execution_count": 28,
   "id": "bfc307b6",
   "metadata": {},
   "outputs": [
    {
     "name": "stdout",
     "output_type": "stream",
     "text": [
      "Array [3, 1] has 2 bitwise OR subsets\n"
     ]
    }
   ],
   "source": [
    "sample1 = [3,1]\n",
    "print(f\"Array {sample1} has {countmaxorsubsets(sample1)} bitwise OR subsets\")"
   ]
  },
  {
   "cell_type": "code",
   "execution_count": 29,
   "id": "7a1c8f68",
   "metadata": {},
   "outputs": [
    {
     "name": "stdout",
     "output_type": "stream",
     "text": [
      "Array [2, 2, 2] has 7 bitwise OR subsets\n"
     ]
    }
   ],
   "source": [
    "sample2 = [2,2,2]\n",
    "print(f\"Array {sample2} has {countmaxorsubsets(sample2)} bitwise OR subsets\")"
   ]
  },
  {
   "cell_type": "code",
   "execution_count": 30,
   "id": "642e5938",
   "metadata": {},
   "outputs": [
    {
     "name": "stdout",
     "output_type": "stream",
     "text": [
      "Array [2, 2, 2] has 7 bitwise OR subsets\n"
     ]
    }
   ],
   "source": [
    "sample2 = [2,2,2]\n",
    "print(f\"Array {sample2} has {countmaxorsubsets(sample2)} bitwise OR subsets\")"
   ]
  },
  {
   "cell_type": "code",
   "execution_count": 31,
   "id": "873f0209",
   "metadata": {},
   "outputs": [
    {
     "name": "stdout",
     "output_type": "stream",
     "text": [
      "Array [0] has 1 bitwise OR subsets\n"
     ]
    }
   ],
   "source": [
    "sample3 = [0]\n",
    "print(f\"Array {sample3} has {countmaxorsubsets(sample3)} bitwise OR subsets\")"
   ]
  },
  {
   "cell_type": "code",
   "execution_count": 32,
   "id": "e947fd0d",
   "metadata": {},
   "outputs": [
    {
     "name": "stdout",
     "output_type": "stream",
     "text": [
      "Array [0, 0, 0] has 7 bitwise OR subsets\n"
     ]
    }
   ],
   "source": [
    "sample4 = [0,0,0]\n",
    "print(f\"Array {sample4} has {countmaxorsubsets(sample4)} bitwise OR subsets\")"
   ]
  }
 ],
 "metadata": {
  "kernelspec": {
   "display_name": "Python 3",
   "language": "python",
   "name": "python3"
  },
  "language_info": {
   "codemirror_mode": {
    "name": "ipython",
    "version": 3
   },
   "file_extension": ".py",
   "mimetype": "text/x-python",
   "name": "python",
   "nbconvert_exporter": "python",
   "pygments_lexer": "ipython3",
   "version": "3.13.1"
  }
 },
 "nbformat": 4,
 "nbformat_minor": 5
}
